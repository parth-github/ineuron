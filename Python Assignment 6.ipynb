{
  "nbformat": 4,
  "nbformat_minor": 0,
  "metadata": {
    "colab": {
      "provenance": [],
      "authorship_tag": "ABX9TyOAx9+mO7/PwjyGhbWSbWeM",
      "include_colab_link": true
    },
    "kernelspec": {
      "name": "python3",
      "display_name": "Python 3"
    },
    "language_info": {
      "name": "python"
    }
  },
  "cells": [
    {
      "cell_type": "markdown",
      "metadata": {
        "id": "view-in-github",
        "colab_type": "text"
      },
      "source": [
        "<a href=\"https://colab.research.google.com/github/parth-github/ineuron/blob/main/Python%20Assignment%206.ipynb\" target=\"_parent\"><img src=\"https://colab.research.google.com/assets/colab-badge.svg\" alt=\"Open In Colab\"/></a>"
      ]
    },
    {
      "cell_type": "markdown",
      "source": [
        "# Python Assignment - 6\n",
        "\n",
        "1. What are escape characters, and how do you use them?\n",
        "2. What do the escape characters n and t stand for?\n",
        "3. What is the way to include backslash characters in a string?\n",
        "4. The string &quot;Howl&#39;s Moving Castle&quot; is a correct value. Why isn&#39;t the single quote character in the\n",
        "word Howl&#39;s not escaped a problem?\n",
        "5. How do you write a string of newlines if you don&#39;t want to use the n character?\n",
        "6. What are the values of the given expressions?\n",
        "&#39;Hello, world!&#39;[1]\n",
        "&#39;Hello, world!&#39;[0:5]\n",
        "&#39;Hello, world!&#39;[:5]\n",
        "&#39;Hello, world!&#39;[3:]\n",
        "\n",
        "7. What are the values of the following expressions?\n",
        "&#39;Hello&#39;.upper()\n",
        "&#39;Hello&#39;.upper().isupper()\n",
        "&#39;Hello&#39;.upper().lower()\n",
        "8. What are the values of the following expressions?\n",
        "&#39;Remember, remember, the fifth of July.&#39;.split()\n",
        "&#39;-&#39;.join(&#39;There can only one.&#39;.split())\n",
        "9. What are the methods for right-justifying, left-justifying, and centering a string?\n",
        "10. What is the best way to remove whitespace characters from the start or end?"
      ],
      "metadata": {
        "id": "eGMSXh-e4geL"
      }
    },
    {
      "cell_type": "markdown",
      "source": [
        "## 1. What are escape characters, and how do you use them?\n",
        "* \\n - newline\n",
        "* \\t - tab,\n",
        "* \\r - carriage return,\n",
        "* \\b - backspace,\n",
        "* \\\\' - single quote,\n",
        "* \\\\\" - double quote"
      ],
      "metadata": {
        "id": "_hVhS-BR6RjI"
      }
    },
    {
      "cell_type": "code",
      "source": [
        "# @title What are escape characters, and how do you use them?\n",
        "# \\n, \\t, \\r, \\b, \\', \\\", \\\\\n",
        "\n",
        "print('hello \\n world')\n",
        "print('hello\\nworld')\n",
        "print('\\tworld')\n",
        "print('hello\\tworld')\n",
        "print('hello\\n\\tworld')\n",
        "print('hello \\r world')\n",
        "print('hello \\' world')\n",
        "print('hello \\n world')\n",
        "print('hello\\\"world')\n",
        "print('hello\\\\world')\n",
        "print('hello\\bworld')"
      ],
      "metadata": {
        "id": "d55pjMYA5ICr",
        "outputId": "1fd19bda-52fa-4a15-8ac3-08c27d473176",
        "colab": {
          "base_uri": "https://localhost:8080/"
        }
      },
      "execution_count": 6,
      "outputs": [
        {
          "output_type": "stream",
          "name": "stdout",
          "text": [
            "hello \n",
            " world\n",
            "hello\n",
            "world\n",
            "\tworld\n",
            "hello\tworld\n",
            "hello\n",
            "\tworld\n",
            "hello \r world\n",
            "hello ' world\n",
            "hello \n",
            " world\n",
            "hello\"world\n",
            "hello\\world\n",
            "hello\bworld\n"
          ]
        }
      ]
    },
    {
      "cell_type": "markdown",
      "source": [
        "## 2. What do the escape characters n and t stand for?\n",
        "\n",
        "*   \\n - newline\n",
        "*   \\t - tab,"
      ],
      "metadata": {
        "id": "SvMGmpSn7jHg"
      }
    },
    {
      "cell_type": "code",
      "source": [
        "# @title Default title text\n",
        "\n"
      ],
      "metadata": {
        "id": "MDytRyDJ5Qfs"
      },
      "execution_count": null,
      "outputs": []
    }
  ]
}