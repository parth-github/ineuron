{
 "cells": [
  {
   "cell_type": "markdown",
   "metadata": {},
   "source": [
    "1. Write a Python program to convert kilometers to miles?\n",
    "2. Write a Python program to convert Celsius to Fahrenheit?\n",
    "3. Write a Python program to display calendar?\n",
    "4. Write a Python program to solve quadratic equation?\n",
    "5. Write a Python program to swap two variables without temp variable?"
   ]
  },
  {
   "cell_type": "code",
   "execution_count": 3,
   "metadata": {},
   "outputs": [
    {
     "data": {
      "text/plain": [
       "3.10685595"
      ]
     },
     "execution_count": 3,
     "metadata": {},
     "output_type": "execute_result"
    }
   ],
   "source": [
    "def km_to_miles(a):\n",
    "    return a * 0.62137119\n",
    "\n",
    "km_to_miles(5)"
   ]
  },
  {
   "cell_type": "code",
   "execution_count": 6,
   "metadata": {},
   "outputs": [
    {
     "data": {
      "text/plain": [
       "89.6"
      ]
     },
     "execution_count": 6,
     "metadata": {},
     "output_type": "execute_result"
    }
   ],
   "source": [
    "def cel_to_fer(c):\n",
    "    return c*9/5 + 32\n",
    "\n",
    "cel_to_fer(32)"
   ]
  },
  {
   "cell_type": "code",
   "execution_count": 10,
   "metadata": {},
   "outputs": [
    {
     "name": "stdout",
     "output_type": "stream",
     "text": [
      "July 2023\n",
      "Mon  Tue  Wed  Thu  Fri  Sat  Sun\n",
      "                          1    2   \n",
      " 3    4    5    6    7    8    9   \n",
      "10   11   12   13   14   15   16   \n",
      "17   18   19   20   21   22   23   \n",
      "24   25   26   27   28   29   30   \n",
      "31                                 \n"
     ]
    }
   ],
   "source": [
    "import calendar\n",
    "\n",
    "def get_calendar(year, month):\n",
    "\n",
    "    # Create a calendar object\n",
    "    cal = calendar.monthcalendar(year, month)\n",
    "\n",
    "    # Display the calendar\n",
    "    print(calendar.month_name[month], year)\n",
    "    print(\"Mon  Tue  Wed  Thu  Fri  Sat  Sun\")\n",
    "    for week in cal:\n",
    "        for day in week:\n",
    "            if day == 0:\n",
    "                print(\"     \", end=\"\")\n",
    "            else:\n",
    "                print(\"{:2d}\".format(day), end=\"   \")\n",
    "        print()\n",
    "\n",
    "get_calendar(2023,7)"
   ]
  },
  {
   "cell_type": "code",
   "execution_count": 12,
   "metadata": {},
   "outputs": [
    {
     "name": "stdout",
     "output_type": "stream",
     "text": [
      "Root 1: (-0.75+1.1989578808281798j)\n",
      "Root 2: (-0.75-1.1989578808281798j)\n"
     ]
    }
   ],
   "source": [
    "import cmath\n",
    "\n",
    "def solve_quad_eqn(a,b,c):\n",
    "\n",
    "    # Calculate the discriminant\n",
    "    discriminant = (b ** 2) - (4 * a * c)\n",
    "\n",
    "    # Check the nature of roots\n",
    "    if discriminant > 0:\n",
    "        # Two distinct real roots\n",
    "        root1 = (-b + cmath.sqrt(discriminant)) / (2 * a)\n",
    "        root2 = (-b - cmath.sqrt(discriminant)) / (2 * a)\n",
    "        print(\"Root 1:\", root1)\n",
    "        print(\"Root 2:\", root2)\n",
    "    elif discriminant == 0:\n",
    "        # One real root (repeated)\n",
    "        root = -b / (2 * a)\n",
    "        print(\"Root:\", root)\n",
    "    else:\n",
    "        # Two complex roots\n",
    "        real_part = -b / (2 * a)\n",
    "        imag_part = cmath.sqrt(-discriminant) / (2 * a)\n",
    "        root1 = complex(real_part, imag_part)\n",
    "        root2 = complex(real_part, -imag_part)\n",
    "        print(\"Root 1:\", root1)\n",
    "        print(\"Root 2:\", root2)\n",
    "\n",
    "solve_quad_eqn(2,3,4)"
   ]
  },
  {
   "cell_type": "code",
   "execution_count": 9,
   "metadata": {},
   "outputs": [
    {
     "data": {
      "text/plain": [
       "(3, 2)"
      ]
     },
     "execution_count": 9,
     "metadata": {},
     "output_type": "execute_result"
    }
   ],
   "source": [
    "def swap_v2(a,b):\n",
    "    a = a + b\n",
    "    b = a - b\n",
    "    a = a - b\n",
    "    return a,b\n",
    "\n",
    "swap_v2(2,3)"
   ]
  }
 ],
 "metadata": {
  "kernelspec": {
   "display_name": "100days_of_coding",
   "language": "python",
   "name": "python3"
  },
  "language_info": {
   "codemirror_mode": {
    "name": "ipython",
    "version": 3
   },
   "file_extension": ".py",
   "mimetype": "text/x-python",
   "name": "python",
   "nbconvert_exporter": "python",
   "pygments_lexer": "ipython3",
   "version": "3.10.2"
  },
  "orig_nbformat": 4
 },
 "nbformat": 4,
 "nbformat_minor": 2
}
