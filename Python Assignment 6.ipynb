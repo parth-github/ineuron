{
  "nbformat": 4,
  "nbformat_minor": 0,
  "metadata": {
    "colab": {
      "provenance": [],
      "authorship_tag": "ABX9TyPJsTl4WKfq3ZDzQ8DsP90B",
      "include_colab_link": true
    },
    "kernelspec": {
      "name": "python3",
      "display_name": "Python 3"
    },
    "language_info": {
      "name": "python"
    }
  },
  "cells": [
    {
      "cell_type": "markdown",
      "metadata": {
        "id": "view-in-github",
        "colab_type": "text"
      },
      "source": [
        "<a href=\"https://colab.research.google.com/github/parth-github/ineuron/blob/main/Python%20Assignment%206.ipynb\" target=\"_parent\"><img src=\"https://colab.research.google.com/assets/colab-badge.svg\" alt=\"Open In Colab\"/></a>"
      ]
    },
    {
      "cell_type": "markdown",
      "source": [
        "# Python Assignment - 6\n",
        "\n",
        "1. What are escape characters, and how do you use them?\n",
        "2. What do the escape characters n and t stand for?\n",
        "3. What is the way to include backslash characters in a string?\n",
        "4. The string &quot;Howl&#39;s Moving Castle&quot; is a correct value. Why isn&#39;t the single quote character in the\n",
        "word Howl&#39;s not escaped a problem?\n",
        "5. How do you write a string of newlines if you don&#39;t want to use the n character?\n",
        "6. What are the values of the given expressions?\n",
        "&#39;Hello, world!&#39;[1]\n",
        "&#39;Hello, world!&#39;[0:5]\n",
        "&#39;Hello, world!&#39;[:5]\n",
        "&#39;Hello, world!&#39;[3:]\n",
        "\n",
        "7. What are the values of the following expressions?\n",
        "&#39;Hello&#39;.upper()\n",
        "&#39;Hello&#39;.upper().isupper()\n",
        "&#39;Hello&#39;.upper().lower()\n",
        "8. What are the values of the following expressions?\n",
        "&#39;Remember, remember, the fifth of July.&#39;.split()\n",
        "&#39;-&#39;.join(&#39;There can only one.&#39;.split())\n",
        "9. What are the methods for right-justifying, left-justifying, and centering a string?\n",
        "10. What is the best way to remove whitespace characters from the start or end?"
      ],
      "metadata": {
        "id": "eGMSXh-e4geL"
      }
    },
    {
      "cell_type": "markdown",
      "source": [
        "## 1. What are escape characters, and how do you use them?\n",
        "* \\n - newline\n",
        "* \\t - tab,\n",
        "* \\r - carriage return,\n",
        "* \\b - backspace,\n",
        "* \\\\' - single quote,\n",
        "* \\\\\" - double quote"
      ],
      "metadata": {
        "id": "_hVhS-BR6RjI"
      }
    },
    {
      "cell_type": "code",
      "source": [
        "# \\n, \\t, \\r, \\b, \\', \\\", \\\\\n",
        "\n",
        "print('hello \\n world')\n",
        "print('hello\\nworld')\n",
        "print('\\tworld')\n",
        "print('hello\\tworld')\n",
        "print('hello\\n\\tworld')\n",
        "print('hello \\r world')\n",
        "print('hello \\' world')\n",
        "print('hello \\n world')\n",
        "print('hello\\\"world')\n",
        "print('hello\\\\world')\n",
        "print('hello\\bworld')"
      ],
      "metadata": {
        "colab": {
          "base_uri": "https://localhost:8080/"
        },
        "id": "d55pjMYA5ICr",
        "outputId": "920ccf24-2a65-4ca3-d80a-c567e0c70344"
      },
      "execution_count": 23,
      "outputs": [
        {
          "output_type": "stream",
          "name": "stdout",
          "text": [
            "hello \n",
            " world\n",
            "hello\n",
            "world\n",
            "\tworld\n",
            "hello\tworld\n",
            "hello\n",
            "\tworld\n",
            "hello \r world\n",
            "hello ' world\n",
            "hello \n",
            " world\n",
            "hello\"world\n",
            "hello\\world\n",
            "hello\bworld\n"
          ]
        }
      ]
    },
    {
      "cell_type": "markdown",
      "source": [
        "## 2. What do the escape characters n and t stand for?\n",
        "\n",
        "*   \\n - newline\n",
        "*   \\t - tab,"
      ],
      "metadata": {
        "id": "SvMGmpSn7jHg"
      }
    },
    {
      "cell_type": "markdown",
      "source": [
        "## 3. What is the way to include backslash characters in a string?\n",
        "> \\\\\\"
      ],
      "metadata": {
        "id": "Z68xjUEY9SwS"
      }
    },
    {
      "cell_type": "code",
      "source": [
        "print('hello\\\\world')\n"
      ],
      "metadata": {
        "colab": {
          "base_uri": "https://localhost:8080/"
        },
        "id": "MDytRyDJ5Qfs",
        "outputId": "fdd02ccb-7407-41ed-8f31-1ef16f163d49"
      },
      "execution_count": 24,
      "outputs": [
        {
          "output_type": "stream",
          "name": "stdout",
          "text": [
            "hello\\world\n"
          ]
        }
      ]
    },
    {
      "cell_type": "markdown",
      "source": [
        "## 4. The string \"Howl's Moving Castle\" is a correct value. Why isn't the single quote character in the word Howl's not escaped a problem?"
      ],
      "metadata": {
        "id": "KabDT0vpBIXR"
      }
    },
    {
      "cell_type": "code",
      "source": [
        "# single quote character if not escaped, it closes the first single quote character and remaining text become an error.\n",
        "print('Howl\\'s Moving Castle')"
      ],
      "metadata": {
        "id": "CsftzSFz9tnk",
        "outputId": "161d486b-19e8-4018-b612-bbff5e14f94e",
        "colab": {
          "base_uri": "https://localhost:8080/"
        }
      },
      "execution_count": 26,
      "outputs": [
        {
          "output_type": "stream",
          "name": "stdout",
          "text": [
            "Howl's Moving Castle\n"
          ]
        }
      ]
    },
    {
      "cell_type": "markdown",
      "source": [
        "## 5. How do you write a string of newlines if you don't want to use the n character?"
      ],
      "metadata": {
        "id": "0iE9xBDu-eXg"
      }
    },
    {
      "cell_type": "code",
      "source": [
        "# Using docstring for multiline string\n",
        "\n",
        "print('''hello\n",
        "world''')\n"
      ],
      "metadata": {
        "id": "GyLDuQf896P6",
        "outputId": "6e227745-337a-4244-c010-298628183f89",
        "colab": {
          "base_uri": "https://localhost:8080/"
        }
      },
      "execution_count": 27,
      "outputs": [
        {
          "output_type": "stream",
          "name": "stdout",
          "text": [
            "hello\n",
            "world\n"
          ]
        }
      ]
    },
    {
      "cell_type": "markdown",
      "source": [
        "## 6. What are the values of the given expressions? 'Hello, world!'[1] 'Hello, world!'[0:5] 'Hello, world!'[:5] 'Hello, world!'[3:]"
      ],
      "metadata": {
        "id": "poHk3Fir-6ld"
      }
    },
    {
      "cell_type": "code",
      "source": [
        "print('Hello, world!'[1])\n",
        "print('Hello, world!'[0:5])\n",
        "print('Hello, world!'[:5])\n",
        "print('Hello, world!'[3:])"
      ],
      "metadata": {
        "id": "s7tthNTR-wss",
        "outputId": "df19cd3d-0ca8-4085-bbee-d4880d138140",
        "colab": {
          "base_uri": "https://localhost:8080/"
        }
      },
      "execution_count": 28,
      "outputs": [
        {
          "output_type": "stream",
          "name": "stdout",
          "text": [
            "e\n",
            "Hello\n",
            "Hello\n",
            "lo, world!\n"
          ]
        }
      ]
    },
    {
      "cell_type": "markdown",
      "source": [
        "## 7. What are the values of the following expressions? 'Hello'.upper() 'Hello'.upper().isupper() 'Hello'.upper().lower()"
      ],
      "metadata": {
        "id": "xSY00PXo_aHp"
      }
    },
    {
      "cell_type": "code",
      "source": [
        "print('Hello'.upper())\n",
        "print('Hello'.upper().isupper())\n",
        "print('Hello'.upper().lower())"
      ],
      "metadata": {
        "id": "UyWJ7205_eBL",
        "outputId": "10a4b171-1b1f-4244-df21-6193711b86e5",
        "colab": {
          "base_uri": "https://localhost:8080/"
        }
      },
      "execution_count": 29,
      "outputs": [
        {
          "output_type": "stream",
          "name": "stdout",
          "text": [
            "HELLO\n",
            "True\n",
            "hello\n"
          ]
        }
      ]
    },
    {
      "cell_type": "markdown",
      "source": [
        "## 8. What are the values of the following expressions? 'Remember, remember, the fifth of July.'.split() '-'.join('There can only one.'.split())"
      ],
      "metadata": {
        "id": "l9c7RTHX_ysh"
      }
    },
    {
      "cell_type": "code",
      "source": [
        "print('Remember, remember, the fifth of July.'.split() )\n",
        "print('-'.join('There can only one.'.split()))"
      ],
      "metadata": {
        "id": "BWaDzvHu_SyE",
        "outputId": "4933e7d1-8c6d-42d5-9f5d-cbca64d09420",
        "colab": {
          "base_uri": "https://localhost:8080/"
        }
      },
      "execution_count": 30,
      "outputs": [
        {
          "output_type": "stream",
          "name": "stdout",
          "text": [
            "['Remember,', 'remember,', 'the', 'fifth', 'of', 'July.']\n",
            "There-can-only-one.\n"
          ]
        }
      ]
    },
    {
      "cell_type": "markdown",
      "source": [
        "## 9. What are the methods for right-justifying, left-justifying, and centering a string?"
      ],
      "metadata": {
        "id": "q9kaxnMUARFh"
      }
    },
    {
      "cell_type": "code",
      "source": [
        "print('hello'.ljust(10))\n",
        "print('hello'.rjust(10))\n",
        "print('hello'.center(10))\n"
      ],
      "metadata": {
        "id": "51_m6m1DAX4j",
        "outputId": "5b915535-5d35-464d-e845-599764c9ae1f",
        "colab": {
          "base_uri": "https://localhost:8080/"
        }
      },
      "execution_count": 31,
      "outputs": [
        {
          "output_type": "stream",
          "name": "stdout",
          "text": [
            "hello     \n",
            "     hello\n",
            "  hello   \n"
          ]
        }
      ]
    },
    {
      "cell_type": "markdown",
      "source": [
        "## 10. What is the best way to remove whitespace characters from the start or end?"
      ],
      "metadata": {
        "id": "qpf_7IH2AvU0"
      }
    },
    {
      "cell_type": "code",
      "source": [
        "print('  hello world  '.strip())\n"
      ],
      "metadata": {
        "id": "9Ed3OEwvAFDQ",
        "outputId": "75999477-c7bd-4a13-bf84-adfaf8937a33",
        "colab": {
          "base_uri": "https://localhost:8080/"
        }
      },
      "execution_count": 32,
      "outputs": [
        {
          "output_type": "stream",
          "name": "stdout",
          "text": [
            "hello world\n"
          ]
        }
      ]
    }
  ]
}