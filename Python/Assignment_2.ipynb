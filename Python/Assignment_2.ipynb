{
 "cells": [
  {
   "cell_type": "markdown",
   "metadata": {},
   "source": [
    "1.What are the two values of the Boolean data type? How do you write them?\n",
    "\n",
    "Ans:- True, False\n"
   ]
  },
  {
   "cell_type": "markdown",
   "metadata": {},
   "source": [
    "2. What are the three different types of Boolean operators?\n",
    "\n",
    "Ans:- and, or, not\n"
   ]
  },
  {
   "cell_type": "markdown",
   "metadata": {},
   "source": [
    "3. Make a list of each Boolean operator's truth tables (i.e. every possible combination of Boolean values for the operator and what it evaluate ).\n",
    "Ans:-\n",
    "\n",
    "|X|\tY|\tX and Y|\n",
    "|--|--|--------|\n",
    "|0\t|0\t|0|\n",
    "|0|\t1\t|0|\n",
    "|1|\t0|\t0|\n",
    "|1|1|\t1|\n",
    "|X|\tY|\tX or Y|\n",
    "|0|\t0|\t0|\n",
    "|0|\t1|\t1|\n",
    "|1|\t0|\t1|\n",
    "|1|\t1|\t1|\n",
    "X| |not X|\n",
    "|0|\t|1|\n",
    "|1|\t|0|\n",
    "\n",
    " \n"
   ]
  },
  {
   "cell_type": "markdown",
   "metadata": {},
   "source": [
    "4. What are the values of the following expressions?\n",
    "\n",
    "(5 > 4) and (3 == 5) `Ans: False`\n",
    "\n",
    "not (5 > 4) `Ans: False`\n",
    "\n",
    "(5 > 4) or (3 == 5) `Ans: True`\n",
    "\n",
    "not ((5 > 4) or (3 == 5)) `Ans: False`\n",
    "\n",
    "(True and True) and (True == False) `Ans: False`\n",
    "\n",
    "(not False) or (not True) `Ans: True`\n"
   ]
  },
  {
   "cell_type": "markdown",
   "metadata": {},
   "source": [
    "5. What are the six comparison operators?\n",
    "\n",
    "Ans: >, <, >=, <=, ==, !=\n",
    "\n"
   ]
  },
  {
   "cell_type": "markdown",
   "metadata": {},
   "source": [
    "6. How do you tell the difference between the equal to and assignment operators?Describe a condition and when you would use one.\n",
    "\n",
    "Ans: \n",
    "\n",
    "‘==’\n",
    "\n",
    "is a comparison operator to check equality eg. x == 3 the expression checks whether x is equal to 3\n",
    "\n",
    "‘=’ \n",
    "\n",
    "is assignment operator which assigns value to a variable eg. a = 12 the statement assigns value 12 to variable ‘a’.\n"
   ]
  },
  {
   "cell_type": "markdown",
   "metadata": {},
   "source": [
    "7. Identify the three blocks in this code:"
   ]
  },
  {
   "cell_type": "code",
   "execution_count": 3,
   "metadata": {},
   "outputs": [
    {
     "name": "stdout",
     "output_type": "stream",
     "text": [
      "ham\n",
      "spam\n",
      "spam\n"
     ]
    }
   ],
   "source": [
    "spam = 0 # Assignment\n",
    "if spam == 10:  # if block\n",
    "    print('eggs')\n",
    "\n",
    "if spam > 5:\t# if block\n",
    "    print('bacon')\n",
    "else:\t\t# else block\n",
    "    print('ham')\n",
    "    print('spam')\n",
    "    print('spam')"
   ]
  },
  {
   "cell_type": "markdown",
   "metadata": {},
   "source": [
    "8. Write code that prints Hello if 1 is stored in spam, prints Howdy if 2 is stored in spam, and prints Greetings! if anything else is stored in spam.\n"
   ]
  },
  {
   "cell_type": "code",
   "execution_count": 4,
   "metadata": {},
   "outputs": [
    {
     "name": "stdout",
     "output_type": "stream",
     "text": [
      "Greetings!\n"
     ]
    }
   ],
   "source": [
    "\n",
    "#Ans:-\n",
    "if spam == 1:\n",
    "    print('Hello') \n",
    "elif spam == 2:\n",
    "    print('Howdy') \n",
    "else: print('Greetings!')\n",
    "\n"
   ]
  },
  {
   "cell_type": "markdown",
   "metadata": {},
   "source": [
    "\n",
    "9.If your programme is stuck in an endless loop, what keys you’ll press?\n",
    "Ans: Ctrl+c\n",
    "\n"
   ]
  },
  {
   "cell_type": "markdown",
   "metadata": {},
   "source": [
    "\n",
    "10. How can you tell the difference between break and continue?\n",
    "Ans: \n",
    "Break will exit the loop.\n",
    "Continue will skip the next statements of the loop and start the next iteration.\n",
    "\n"
   ]
  },
  {
   "cell_type": "markdown",
   "metadata": {},
   "source": [
    "11. In a for loop, what is the difference between range(10), range(0, 10), and range(0, 10, 1)?\n",
    "Ans: \n",
    "No difference. \n",
    "range(10) takes first arg as 0 and last arg as 1 by default. All three statement generates values from 0 to 9.\n",
    "\n"
   ]
  },
  {
   "cell_type": "markdown",
   "metadata": {},
   "source": [
    "\n",
    "12. Write a short program that prints the numbers 1 to 10 using a for loop. Then write an equivalent program that prints the numbers 1 to 10 using a while loop.\n",
    "Ans: \n",
    "\n"
   ]
  },
  {
   "cell_type": "code",
   "execution_count": 5,
   "metadata": {},
   "outputs": [
    {
     "name": "stdout",
     "output_type": "stream",
     "text": [
      "1\n",
      "2\n",
      "3\n",
      "4\n",
      "5\n",
      "6\n",
      "7\n",
      "8\n",
      "9\n",
      "10\n"
     ]
    }
   ],
   "source": [
    "for i in range(1, 11): print(i)"
   ]
  },
  {
   "cell_type": "code",
   "execution_count": 10,
   "metadata": {},
   "outputs": [
    {
     "name": "stdout",
     "output_type": "stream",
     "text": [
      "1\n",
      "2\n",
      "3\n",
      "4\n",
      "5\n",
      "6\n",
      "7\n",
      "8\n",
      "9\n",
      "10\n"
     ]
    }
   ],
   "source": [
    "j = 1\n",
    "while j < 11:\n",
    "    print(j)\n",
    "    j += 1   \n"
   ]
  },
  {
   "cell_type": "markdown",
   "metadata": {},
   "source": [
    "13. If you had a function named bacon() inside a module named spam, how would you call it after importing spam?\n",
    "\n",
    "Ans:\n",
    "\n",
    "spam.bacon()\n",
    "\n"
   ]
  }
 ],
 "metadata": {
  "interpreter": {
   "hash": "c67e2636b5c8a6178ff6ab21ce8cc5e270f14933d3acedca2f49f5b4a4c388db"
  },
  "kernelspec": {
   "display_name": "Python 3.10.2 64-bit (system)",
   "language": "python",
   "name": "python3"
  },
  "language_info": {
   "codemirror_mode": {
    "name": "ipython",
    "version": 3
   },
   "file_extension": ".py",
   "mimetype": "text/x-python",
   "name": "python",
   "nbconvert_exporter": "python",
   "pygments_lexer": "ipython3",
   "version": "3.10.2"
  },
  "orig_nbformat": 4
 },
 "nbformat": 4,
 "nbformat_minor": 2
}
