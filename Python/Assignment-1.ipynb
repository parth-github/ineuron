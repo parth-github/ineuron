{
 "cells": [
  {
   "cell_type": "markdown",
   "metadata": {},
   "source": [
    "1. In the below elements which of them are values or an expression? eg:- values can be integer or string and expressions will be mathematical operators.\n",
    "\n",
    "\\* :- expression\n",
    "\n",
    "‘hello’ :- value\n",
    "\n",
    "-87.8 :- value\n",
    "\n",
    "\\- :- expression\n",
    "\n",
    "/ :- expression\n",
    "\n",
    "\\+\t:- expression\n",
    "\n",
    "6 :- value\n",
    "\n"
   ]
  },
  {
   "cell_type": "markdown",
   "metadata": {},
   "source": [
    "2. What is the difference between string and variable?\n",
    "\n",
    "String is a data type.\n",
    "\n",
    "Variable is an identifier which holds value.\n",
    "\n"
   ]
  },
  {
   "cell_type": "markdown",
   "metadata": {},
   "source": [
    "3. Describe three different data types.\n",
    "\n",
    "String:- any text consists alphanumeric literals is a string datatype. String value is written inside two single quotes or double quotes.\n",
    "\n",
    "Eg. a_string = ‘this is a string'\n",
    "\n",
    "Integer:- Any number value without decimal is called integer type. It includes negative numbers also.\n",
    "\n",
    "Eg. 124, -34 etc.\n",
    "\n",
    "Float:- Decimal numbers with precision are float data type. \n",
    "\n",
    "Eg. 1.234e+3, 3.14 etc.\n",
    "\n"
   ]
  },
  {
   "cell_type": "markdown",
   "metadata": {},
   "source": [
    "4. What is an expression made up of? What do all expressions do?\n",
    "\n",
    "Ans:- An expression is made up of values, variables and operators. \n",
    "\n",
    "Eg. 3 * 4 + 6 / 2, 13 *( 12 – 9) etc.\n",
    "\n",
    "Expression are meant to calculate and get the result value.\n",
    "\n"
   ]
  },
  {
   "cell_type": "markdown",
   "metadata": {},
   "source": [
    "5. This assignment statements, like spam = 10. What is the difference between an expression and a statement?\n",
    "\n",
    "Ans:- \n",
    "\n",
    "An expression calculates  to get a value.\n",
    "\n",
    "Assignment statement is to assign a value to a variable. \n",
    "\n",
    "var_a = 3 * 3 + 45 - 4\n",
    "\n",
    "Here, LHS is the variable name, RHS is an expression. And the whole line is an statement where value from calculated expressionIs directly assigned to the variable.\n",
    "\n"
   ]
  },
  {
   "cell_type": "markdown",
   "metadata": {},
   "source": [
    "6. After running the following code, what does the variable bacon contain?\n",
    "\n",
    "bacon = 22\n",
    "\n",
    "bacon + 1\n",
    "\n",
    "Ans:- 22\n",
    "\n"
   ]
  },
  {
   "cell_type": "markdown",
   "metadata": {},
   "source": [
    "7. What should the values of the following two terms be?\n",
    "\n",
    "'spam' + 'spamspam'\n",
    "\n",
    "'spam' * 3\n",
    "\n",
    "Ans:- spamspamspam\n",
    "\n",
    "spamspamspam\n",
    "\n"
   ]
  },
  {
   "cell_type": "markdown",
   "metadata": {},
   "source": [
    "8. Why is eggs a valid variable name while 100 is invalid?\n",
    "\n",
    "Ans:- python doesn’t allow variable name to be started with a number. Here 100 is starting with number 1. \n",
    "\n",
    "Hence, 100 not allowed as variable name.\n"
   ]
  },
  {
   "cell_type": "markdown",
   "metadata": {},
   "source": [
    "\n",
    "9. What three functions can be used to get the integer, floating-point number, or string version of a value?\n",
    "\n",
    "Ans:- \n",
    "\n",
    "int()\n",
    "\n",
    "float()\n",
    "\n",
    "str()\n"
   ]
  },
  {
   "cell_type": "markdown",
   "metadata": {},
   "source": [
    "\n",
    "10. Why does this expression cause an error? How can you fix it?\n",
    "\n",
    "'I have eaten ' + 99 + ' burritos.'\n",
    "\n",
    "Ans:- 99 will be taken as number which will be tried to be added with other string operands. Adding integer to string values is not possible hence, error will be thrown.\n",
    "\n",
    "Type conversion using str() function will convert the int type to string type for further concatenation.\n",
    "\n",
    "Hence the correct expression should be:\n",
    "‘I have eaten ‘ + str(99) + ‘ burritos.’\n"
   ]
  }
 ],
 "metadata": {
  "interpreter": {
   "hash": "c67e2636b5c8a6178ff6ab21ce8cc5e270f14933d3acedca2f49f5b4a4c388db"
  },
  "kernelspec": {
   "display_name": "Python 3.10.2 64-bit (system)",
   "language": "python",
   "name": "python3"
  },
  "language_info": {
   "codemirror_mode": {
    "name": "ipython",
    "version": 3
   },
   "file_extension": ".py",
   "mimetype": "text/x-python",
   "name": "python",
   "nbconvert_exporter": "python",
   "pygments_lexer": "ipython3",
   "version": "3.10.2"
  },
  "orig_nbformat": 4
 },
 "nbformat": 4,
 "nbformat_minor": 2
}
