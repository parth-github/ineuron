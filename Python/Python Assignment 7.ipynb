{
  "nbformat": 4,
  "nbformat_minor": 0,
  "metadata": {
    "colab": {
      "provenance": [],
      "authorship_tag": "ABX9TyMWwLL0PoBl054vAZ5GeEJy",
      "include_colab_link": true
    },
    "kernelspec": {
      "name": "python3",
      "display_name": "Python 3"
    },
    "language_info": {
      "name": "python"
    }
  },
  "cells": [
    {
      "cell_type": "markdown",
      "metadata": {
        "id": "view-in-github",
        "colab_type": "text"
      },
      "source": [
        "<a href=\"https://colab.research.google.com/github/parth-github/ineuron/blob/main/Python/Python%20Assignment%207.ipynb\" target=\"_parent\"><img src=\"https://colab.research.google.com/assets/colab-badge.svg\" alt=\"Open In Colab\"/></a>"
      ]
    },
    {
      "cell_type": "markdown",
      "source": [
        "1. What is the name of the feature responsible for generating Regex objects?\n",
        "2. Why do raw strings often appear in Regex objects?\n",
        "3. What is the return value of the search() method?\n",
        "4. From a Match item, how do you get the actual strings that match the pattern?\n",
        "5. In the regex which created from the r&#39;(\\d\\d\\d)-(\\d\\d\\d-\\d\\d\\d\\d)&#39;, what does group zero cover?\n",
        "Group 2? Group 1?\n",
        "6. In standard expression syntax, parentheses and intervals have distinct meanings. How can you tell\n",
        "a regex that you want it to fit real parentheses and periods?\n",
        "7. The findall() method returns a string list or a list of string tuples. What causes it to return one of\n",
        "the two options?\n",
        "8. In standard expressions, what does the | character mean?\n",
        "9. In regular expressions, what does the character stand for?\n",
        "10.In regular expressions, what is the difference between the + and * characters?\n",
        "11. What is the difference between {4} and {4,5} in regular expression?\n",
        "12. What do you mean by the \\d, \\w, and \\s shorthand character classes signify in regular\n",
        "expressions?\n",
        "13. What do means by \\D, \\W, and \\S shorthand character classes signify in regular expressions?\n",
        "14. What is the difference between .*? and .*?\n",
        "15. What is the syntax for matching both numbers and lowercase letters with a character class?\n",
        "16. What is the procedure for making a normal expression in regax case insensitive?\n",
        "17. What does the . character normally match? What does it match if re.DOTALL is passed as 2nd\n",
        "argument in re.compile()?\n",
        "18. If numReg = re.compile(r&#39;\\d+&#39;), what will numRegex.sub(&#39;X&#39;, &#39;11 drummers, 10 pipers, five rings, 4\n",
        "hen&#39;) return?\n",
        "19. What does passing re.VERBOSE as the 2nd argument to re.compile() allow to do?\n",
        "20. How would you write a regex that match a number with comma for every three digits? It must\n",
        "match the given following:\n",
        "&#39;42&#39;\n",
        "&#39;1,234&#39;\n",
        "&#39;6,368,745&#39;\n",
        "\n",
        "but not the following:\n",
        "&#39;12,34,567&#39; (which has only two digits between the commas)\n",
        "&#39;1234&#39; (which lacks commas)\n",
        "21. How would you write a regex that matches the full name of someone whose last name is\n",
        "Watanabe? You can assume that the first name that comes before it will always be one word that\n",
        "begins with a capital letter. The regex must match the following:\n",
        "&#39;Haruto Watanabe&#39;\n",
        "&#39;Alice Watanabe&#39;\n",
        "&#39;RoboCop Watanabe&#39;\n",
        "but not the following:\n",
        "&#39;haruto Watanabe&#39; (where the first name is not capitalized)\n",
        "&#39;Mr. Watanabe&#39; (where the preceding word has a nonletter character)\n",
        "&#39;Watanabe&#39; (which has no first name)\n",
        "&#39;Haruto watanabe&#39; (where Watanabe is not capitalized)\n",
        "22. How would you write a regex that matches a sentence where the first word is either Alice, Bob,\n",
        "or Carol; the second word is either eats, pets, or throws; the third word is apples, cats, or baseballs;\n",
        "and the sentence ends with a period? This regex should be case-insensitive. It must match the\n",
        "following:\n",
        "&#39;Alice eats apples.&#39;\n",
        "&#39;Bob pets cats.&#39;\n",
        "&#39;Carol throws baseballs.&#39;\n",
        "&#39;Alice throws Apples.&#39;\n",
        "&#39;BOB EATS CATS.&#39;\n",
        "but not the following:\n",
        "&#39;RoboCop eats apples.&#39;\n",
        "&#39;ALICE THROWS FOOTBALLS.&#39;\n",
        "&#39;Carol eats 7 cats.&#39;"
      ],
      "metadata": {
        "id": "lQb5Qv7SCJ63"
      }
    },
    {
      "cell_type": "markdown",
      "source": [
        "### 1. What is the name of the feature responsible for generating Regex objects?\n",
        "\n",
        "`re.compile`"
      ],
      "metadata": {
        "id": "KTI1kfoREUjJ"
      }
    },
    {
      "cell_type": "code",
      "execution_count": 28,
      "metadata": {
        "id": "D3TEijJzCIjj"
      },
      "outputs": [],
      "source": [
        "import re\n",
        "a = re.compile('[A-Z]')"
      ]
    },
    {
      "cell_type": "markdown",
      "source": [
        "### 2. Why do raw strings often appear in Regex objects?\n",
        "\n",
        "Raw strings often appear in Regex objects because they allow you to use backslashes without having to escape them. This is important because backslashes are used to represent special characters in regular expressions. For example, the following regular expression matches any word that starts with the letter \"A\":\n",
        "\n"
      ],
      "metadata": {
        "id": "fmIcDjvDFHsZ"
      }
    },
    {
      "cell_type": "markdown",
      "source": [
        "### 3.What is the return value of the search() method?\n",
        "\n",
        "The search() method of the re object returns a match object if the pattern is found in the string, otherwise it returns None.\n"
      ],
      "metadata": {
        "id": "c8A-5SkSFmrV"
      }
    },
    {
      "cell_type": "code",
      "source": [
        "re.search(a, 'The Ant')\n",
        "\n"
      ],
      "metadata": {
        "id": "BtezSkfTEmI0",
        "outputId": "81639840-918d-4708-895b-f62c914433e2",
        "colab": {
          "base_uri": "https://localhost:8080/"
        }
      },
      "execution_count": 29,
      "outputs": [
        {
          "output_type": "execute_result",
          "data": {
            "text/plain": [
              "<re.Match object; span=(0, 1), match='T'>"
            ]
          },
          "metadata": {},
          "execution_count": 29
        }
      ]
    },
    {
      "cell_type": "code",
      "source": [
        "re.search('^[T]', 'The Antttt')"
      ],
      "metadata": {
        "id": "_ytLveaoFwZE",
        "outputId": "5ce2a29b-20f3-419c-d017-4f90e2de4d74",
        "colab": {
          "base_uri": "https://localhost:8080/"
        }
      },
      "execution_count": 34,
      "outputs": [
        {
          "output_type": "execute_result",
          "data": {
            "text/plain": [
              "<re.Match object; span=(0, 1), match='T'>"
            ]
          },
          "metadata": {},
          "execution_count": 34
        }
      ]
    },
    {
      "cell_type": "code",
      "source": [
        "if re.search('[0-9]', 'The Ant'):\n",
        "  print('found')\n",
        "else: print('No number found')"
      ],
      "metadata": {
        "id": "S7Hp-eZ_GQsZ",
        "outputId": "cf95f29d-3f68-4d3d-e109-f09f11495f7a",
        "colab": {
          "base_uri": "https://localhost:8080/"
        }
      },
      "execution_count": 38,
      "outputs": [
        {
          "output_type": "stream",
          "name": "stdout",
          "text": [
            "No number found\n"
          ]
        }
      ]
    },
    {
      "cell_type": "code",
      "source": [
        "# prompt: From a Match item, how do you get the actual strings that match the pattern?\n",
        "\n",
        "import re\n",
        "\n",
        "# Create a regular expression object\n",
        "regex = re.compile(r\"\\d+$\")\n",
        "\n",
        "# Search for matches in a string\n",
        "string = \"The quick brown fox jumps over the lazy dog 123\"\n",
        "matches = regex.finditer(string)\n",
        "\n",
        "# Extract the matching strings\n",
        "for match in matches:\n",
        "    print(match.group(0))\n"
      ],
      "metadata": {
        "id": "ZuwN_fLDGdoF",
        "outputId": "e57a36e6-4d43-401c-adfc-f8c041015bb4",
        "colab": {
          "base_uri": "https://localhost:8080/"
        }
      },
      "execution_count": 41,
      "outputs": [
        {
          "output_type": "stream",
          "name": "stdout",
          "text": [
            "123\n"
          ]
        }
      ]
    },
    {
      "cell_type": "code",
      "source": [],
      "metadata": {
        "id": "-HcfhE6AJ3_1"
      },
      "execution_count": null,
      "outputs": []
    }
  ]
}